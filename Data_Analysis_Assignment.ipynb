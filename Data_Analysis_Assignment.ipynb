{
 "cells": [
  {
   "cell_type": "markdown",
   "id": "9fa6d22f",
   "metadata": {},
   "source": [
    "# 📊 Data Analysis & Visualization Assignment"
   ]
  },
  {
   "cell_type": "markdown",
   "id": "1c0e854e",
   "metadata": {},
   "source": [
    "## Task 1: Load and Explore the Dataset"
   ]
  },
  {
   "cell_type": "code",
   "execution_count": null,
   "id": "61aac647",
   "metadata": {},
   "outputs": [],
   "source": [
    "import pandas as pd\n",
    "import matplotlib.pyplot as plt\n",
    "import seaborn as sns\n",
    "from sklearn.datasets import load_iris\n",
    "\n",
    "# Load the Iris dataset\n",
    "iris = load_iris(as_frame=True)\n",
    "df = iris.frame\n",
    "df['species'] = df['target'].map(dict(enumerate(iris.target_names)))\n",
    "\n",
    "# Display first rows\n",
    "print(\"First 5 rows of dataset:\")\n",
    "display(df.head())\n",
    "\n",
    "# Check structure\n",
    "print(\"\\nDataset Info:\")\n",
    "print(df.info())\n",
    "print(\"\\nMissing values:\")\n",
    "print(df.isnull().sum())"
   ]
  },
  {
   "cell_type": "markdown",
   "id": "8d8b360b",
   "metadata": {},
   "source": [
    "## Task 2: Basic Statistics and Grouping"
   ]
  },
  {
   "cell_type": "code",
   "execution_count": null,
   "id": "c1836465",
   "metadata": {},
   "outputs": [],
   "source": [
    "# Basic Statistics\n",
    "print(\"\\nBasic Statistics:\")\n",
    "display(df.describe())\n",
    "\n",
    "# Median values\n",
    "print(\"\\nMedian values:\")\n",
    "print(df.median())\n",
    "\n",
    "# Grouping by species\n",
    "grouped = df.groupby('species').mean()\n",
    "print(\"\\nMean values grouped by species:\")\n",
    "display(grouped)"
   ]
  },
  {
   "cell_type": "markdown",
   "id": "373b95d0",
   "metadata": {},
   "source": [
    "## Task 3: Data Visualization"
   ]
  },
  {
   "cell_type": "code",
   "execution_count": null,
   "id": "795e46e3",
   "metadata": {},
   "outputs": [],
   "source": [
    "# 1. Line chart - Cumulative mean of sepal length\n",
    "df['cum_mean_sepal_length'] = df['sepal length (cm)'].expanding().mean()\n",
    "plt.figure(figsize=(8,5))\n",
    "plt.plot(df.index, df['cum_mean_sepal_length'], label=\"Cumulative Mean Sepal Length\")\n",
    "plt.title(\"Trend of Sepal Length Over Observations\")\n",
    "plt.xlabel(\"Observation Index\")\n",
    "plt.ylabel(\"Sepal Length (cm)\")\n",
    "plt.legend()\n",
    "plt.show()"
   ]
  },
  {
   "cell_type": "code",
   "execution_count": null,
   "id": "93608733",
   "metadata": {},
   "outputs": [],
   "source": [
    "# 2. Bar chart - Average petal length per species\n",
    "plt.figure(figsize=(8,5))\n",
    "sns.barplot(x=\"species\", y=\"petal length (cm)\", data=df, ci=None)\n",
    "plt.title(\"Average Petal Length per Species\")\n",
    "plt.xlabel(\"Species\")\n",
    "plt.ylabel(\"Petal Length (cm)\")\n",
    "plt.show()"
   ]
  },
  {
   "cell_type": "code",
   "execution_count": null,
   "id": "f5f4a73c",
   "metadata": {},
   "outputs": [],
   "source": [
    "# 3. Histogram - Distribution of sepal width\n",
    "plt.figure(figsize=(8,5))\n",
    "plt.hist(df[\"sepal width (cm)\"], bins=20, color=\"skyblue\", edgecolor=\"black\")\n",
    "plt.title(\"Distribution of Sepal Width\")\n",
    "plt.xlabel(\"Sepal Width (cm)\")\n",
    "plt.ylabel(\"Frequency\")\n",
    "plt.show()"
   ]
  },
  {
   "cell_type": "code",
   "execution_count": null,
   "id": "92193820",
   "metadata": {},
   "outputs": [],
   "source": [
    "# 4. Scatter plot - Sepal length vs Sepal width\n",
    "plt.figure(figsize=(8,5))\n",
    "sns.scatterplot(x=\"sepal length (cm)\", y=\"sepal width (cm)\", hue=\"species\", data=df)\n",
    "plt.title(\"Sepal Length vs Sepal Width\")\n",
    "plt.xlabel(\"Sepal Length (cm)\")\n",
    "plt.ylabel(\"Sepal Width (cm)\")\n",
    "plt.legend(title=\"Species\")\n",
    "plt.show()"
   ]
  },
  {
   "cell_type": "markdown",
   "id": "8a49285f",
   "metadata": {},
   "source": [
    "## Findings & Observations\n",
    "- Setosa species tend to have smaller petal lengths compared to Versicolor and Virginica.\n",
    "- The histogram shows Sepal Width is roughly normally distributed but slightly skewed.\n",
    "- The scatter plot indicates Setosa is clearly separated from the other two species in sepal measurements.\n",
    "- Line chart shows stabilization of average sepal length as more observations are included."
   ]
  }
 ],
 "metadata": {},
 "nbformat": 4,
 "nbformat_minor": 5
}
